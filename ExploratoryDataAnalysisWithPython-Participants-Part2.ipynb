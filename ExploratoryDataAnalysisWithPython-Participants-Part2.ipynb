{
 "cells": [
  {
   "cell_type": "markdown",
   "metadata": {},
   "source": [
    "# <font color='blue'> Exploratory Data Analysis with Python: Part 2 of 2</font>"
   ]
  },
  {
   "cell_type": "markdown",
   "metadata": {},
   "source": [
    "### Lise Doucette, Data and Statistics Librarian\n",
    "### Nich Worby, Government Information and Statistics Librarian\n",
    "### mdl@library.utoronto.ca"
   ]
  },
  {
   "cell_type": "markdown",
   "metadata": {
    "slideshow": {
     "slide_type": "slide"
    }
   },
   "source": [
    "# <font color='blue'> Outline </font>\n",
    "\n"
   ]
  },
  {
   "cell_type": "markdown",
   "metadata": {},
   "source": [
    "## <font color='blue'> 1 Creating crosstabs and grouping data </font>\n",
    "\n",
    "## <font color='blue'> Review: Selecting Data (from the Python workshop part 1)\n",
    "\n",
    "## <font color='blue'> 2 Editing data and creating new variables </font>\n",
    "- a. Renaming variable categories\n",
    "- b. Creating new variable with a calculation\n",
    "- c. Splitting name into first and last\n",
    "- d. Grouping values of a variable\n",
    "\n",
    "Review: Getting help (from the Python workshop part 1)"
   ]
  },
  {
   "cell_type": "markdown",
   "metadata": {},
   "source": [
    "### Import libraries"
   ]
  },
  {
   "cell_type": "code",
   "execution_count": null,
   "metadata": {
    "collapsed": true
   },
   "outputs": [],
   "source": []
  },
  {
   "cell_type": "markdown",
   "metadata": {},
   "source": [
    "### Import data set\n"
   ]
  },
  {
   "cell_type": "code",
   "execution_count": null,
   "metadata": {
    "collapsed": true
   },
   "outputs": [],
   "source": []
  },
  {
   "cell_type": "markdown",
   "metadata": {},
   "source": [
    "### Correct data types\n",
    "\n",
    "Recall the syntax for correcting data types:\n",
    "\n",
    "~~~\n",
    "titanic['ColumnName'] = titanic['ColumnName'].astype('NewDataType')\n",
    "~~~"
   ]
  },
  {
   "cell_type": "code",
   "execution_count": null,
   "metadata": {
    "collapsed": true
   },
   "outputs": [],
   "source": [
    "titanic['body'] = titanic['body'].astype('object')\n",
    "titanic['pclass']= titanic['pclass'].astype('category')\n",
    "titanic['survived'] = titanic['survived'].astype('category')\n",
    "titanic['sex'] = titanic['sex'].astype('category')\n",
    "titanic['embarked'] = titanic['embarked'].astype('category')"
   ]
  },
  {
   "cell_type": "code",
   "execution_count": null,
   "metadata": {
    "collapsed": true
   },
   "outputs": [],
   "source": []
  },
  {
   "cell_type": "markdown",
   "metadata": {},
   "source": [
    "## <font color='blue'>1 Creating crosstabs and grouping data</font>"
   ]
  },
  {
   "cell_type": "markdown",
   "metadata": {},
   "source": [
    "### a) Create crosstabs\n",
    "\n",
    "Things to think about:\n",
    "- data types of variables you're interested in\n",
    "\n",
    "Crosstabs are a way of looking at potential relationships between two or more variables. Variables are plotted against each other in a table with variables on the x and y axes. The cells contain the number of times the a combination of categories occurred. For example: <div style=\"width: 150px;\">![crosstab](https://github.com/nichworby/python/blob/master/crosstab.png?raw=true)</div>\n",
    "\n",
    "If ever you have questions about how to use syntax, it's useful to check out the pandas library's [help file](https://pandas.pydata.org/pandas-docs/stable/reference/api/pandas.crosstab.html). For example, the normalize function creates percentages."
   ]
  },
  {
   "cell_type": "code",
   "execution_count": null,
   "metadata": {
    "collapsed": true
   },
   "outputs": [],
   "source": []
  },
  {
   "cell_type": "markdown",
   "metadata": {},
   "source": [
    "Use the normalize argument to display crosstab values as percentages"
   ]
  },
  {
   "cell_type": "code",
   "execution_count": null,
   "metadata": {
    "collapsed": true,
    "scrolled": false
   },
   "outputs": [],
   "source": []
  },
  {
   "cell_type": "markdown",
   "metadata": {},
   "source": [
    "The normalize argument can also be set to 'columns' to display crosstab values by columns instead of rows."
   ]
  },
  {
   "cell_type": "code",
   "execution_count": null,
   "metadata": {
    "collapsed": true
   },
   "outputs": [],
   "source": []
  },
  {
   "cell_type": "markdown",
   "metadata": {},
   "source": [
    "Crosstabs can be further modified with methods like: `.round()`"
   ]
  },
  {
   "cell_type": "code",
   "execution_count": null,
   "metadata": {
    "collapsed": true
   },
   "outputs": [],
   "source": []
  },
  {
   "cell_type": "markdown",
   "metadata": {},
   "source": [
    "Cross tabs aren't just limited to comparing two variables at a time. Let's say we want to compare passenger class, sex and survival rates. We can use square brackets [ ] to incorporate more variables into the crosstab, similar to earlier examples."
   ]
  },
  {
   "cell_type": "code",
   "execution_count": null,
   "metadata": {
    "collapsed": true
   },
   "outputs": [],
   "source": []
  },
  {
   "cell_type": "markdown",
   "metadata": {},
   "source": [
    "### b) Grouping Data \n",
    "\n",
    "- when does it make sense to use sum, mean, value_counts?"
   ]
  },
  {
   "cell_type": "code",
   "execution_count": null,
   "metadata": {
    "collapsed": true
   },
   "outputs": [],
   "source": []
  },
  {
   "cell_type": "code",
   "execution_count": null,
   "metadata": {
    "collapsed": true
   },
   "outputs": [],
   "source": []
  },
  {
   "cell_type": "markdown",
   "metadata": {},
   "source": [
    "### Exercise\n",
    "\n",
    "1. Create a crosstab to show the numbers of men and women who survived.\n",
    "2. Create a table using groupby that shows average values grouped by sex."
   ]
  },
  {
   "cell_type": "code",
   "execution_count": null,
   "metadata": {
    "collapsed": true
   },
   "outputs": [],
   "source": []
  },
  {
   "cell_type": "code",
   "execution_count": null,
   "metadata": {
    "collapsed": true
   },
   "outputs": [],
   "source": []
  },
  {
   "cell_type": "markdown",
   "metadata": {},
   "source": [
    "## <font color='blue'>Review: Selecting Data (from the Python workshop part 1)</font>\n",
    "\n",
    "__Selecting one column:__\n",
    "\n",
    "    titanic['col_name']\n",
    "    \n",
    "__Selecting multiple columns:__\n",
    "\n",
    "    titanic[['col1_name','col2_name']]\n",
    "        \n",
    "__Filtering by a condition:__\n",
    "\n",
    "    \n",
    "    titanic[titanic['fare'] > 50]\n",
    "    titanic[titanic['name'].str.contains(\"Robert\")]\n",
    "\n",
    "__Combining filters:__\n",
    "\n",
    "    titanic[(titanic['fare'] > 50) & (titanic['name'].str.contains(r'\\bRobert\\b'))]\n",
    "    \n",
    "    titanic[(titanic['pclass']==1) | (titanic['pclass']==2)]"
   ]
  },
  {
   "cell_type": "markdown",
   "metadata": {
    "collapsed": true
   },
   "source": [
    "## Exercise\n",
    "\n",
    "1. Create a filter that lists passengers who did not survive\n",
    "2. Create a filter that lists passengers with the name Robert who survived\n",
    "3. Create a filter that lists passengers in class 1 who were more than 30 years old\n"
   ]
  },
  {
   "cell_type": "code",
   "execution_count": null,
   "metadata": {
    "collapsed": true
   },
   "outputs": [],
   "source": []
  },
  {
   "cell_type": "code",
   "execution_count": null,
   "metadata": {
    "collapsed": true
   },
   "outputs": [],
   "source": []
  },
  {
   "cell_type": "code",
   "execution_count": null,
   "metadata": {
    "collapsed": true
   },
   "outputs": [],
   "source": []
  },
  {
   "cell_type": "markdown",
   "metadata": {},
   "source": [
    "### SORTING DATA\n",
    "\n",
    "Numeric values can be sorted to be displayed either ascending (lowest to highest) or descending values (highest to lowest). Sorting data frames by the value of cells in a particular column uses the following syntax:\n",
    "\n",
    "        dataframename.sort_values(by=['column'],)\n",
    "        \n",
    "Note: The default setting is to sort from lowest to highest. To switch to ordering highest to lowest, add the ascending=False argument."
   ]
  },
  {
   "cell_type": "code",
   "execution_count": null,
   "metadata": {
    "collapsed": true
   },
   "outputs": [],
   "source": []
  },
  {
   "cell_type": "code",
   "execution_count": null,
   "metadata": {
    "collapsed": true
   },
   "outputs": [],
   "source": []
  },
  {
   "cell_type": "markdown",
   "metadata": {},
   "source": [
    "## <font color='blue'>2 Editing data and creating new variables</font>\n",
    "\n",
    "### a. Renaming variable categories\n",
    "\n",
    "Often variables in datasets use codes that aren't very descriptive. It's helpful to first view all codes in a variable before editing."
   ]
  },
  {
   "cell_type": "code",
   "execution_count": null,
   "metadata": {
    "collapsed": true
   },
   "outputs": [],
   "source": []
  },
  {
   "cell_type": "markdown",
   "metadata": {},
   "source": [
    "Next, read the codebook to understand what the codes mean. There are 3 codes for embarkation points: S = Southampton, C = Cherbourg and Q = Queenstown. Start the next line with the name of the variable you would like to edit, e.g. titanic['embarked']. \n",
    "\n",
    "Use the = sign next to make sure you write the change to the entire variable and save it. This is similar to value assignment in algebra, e.g. x = y + z. \n",
    "\n",
    "We can use the .replace( ) method to change our codes to names. We can use .value_counts( ) to check our work."
   ]
  },
  {
   "cell_type": "code",
   "execution_count": null,
   "metadata": {
    "collapsed": true
   },
   "outputs": [],
   "source": []
  },
  {
   "cell_type": "code",
   "execution_count": null,
   "metadata": {
    "collapsed": true
   },
   "outputs": [],
   "source": []
  },
  {
   "cell_type": "markdown",
   "metadata": {},
   "source": [
    "### b. Creating a new variable\n",
    "\n",
    "The syntax for creating new variables in a dataframe starts by calling the dataframe by name and placing the variable name in square brackets in quotes and assigning value with an equal sign.\n",
    "\n",
    "~~~\n",
    "dataframe['new variable'] = \n",
    "~~~\n",
    "\n",
    "Let's say we want to calculate the fare variable in Canadian dollars. In 1912, the value of the Canadian dollar was pegged at 4.8666CAD to one British Pound Sterling."
   ]
  },
  {
   "cell_type": "code",
   "execution_count": null,
   "metadata": {
    "collapsed": true
   },
   "outputs": [],
   "source": []
  },
  {
   "cell_type": "markdown",
   "metadata": {},
   "source": [
    "Check if the new variable has been added by using the .head( ) method."
   ]
  },
  {
   "cell_type": "code",
   "execution_count": null,
   "metadata": {
    "collapsed": true
   },
   "outputs": [],
   "source": []
  },
  {
   "cell_type": "markdown",
   "metadata": {},
   "source": [
    "### c. Splitting text variables"
   ]
  },
  {
   "cell_type": "markdown",
   "metadata": {},
   "source": [
    "We might want to create two separate variables for the passenger's last name and their first name.  We need to investigate how the original name variable is structured to determine how to do this."
   ]
  },
  {
   "cell_type": "code",
   "execution_count": null,
   "metadata": {
    "collapsed": true
   },
   "outputs": [],
   "source": []
  },
  {
   "cell_type": "code",
   "execution_count": null,
   "metadata": {
    "collapsed": true
   },
   "outputs": [],
   "source": []
  },
  {
   "cell_type": "code",
   "execution_count": null,
   "metadata": {
    "collapsed": true
   },
   "outputs": [],
   "source": []
  },
  {
   "cell_type": "markdown",
   "metadata": {},
   "source": [
    "### d. Creating age bins"
   ]
  },
  {
   "cell_type": "markdown",
   "metadata": {},
   "source": [
    "We may want to group together people of certain ages, in order to perform certain kinds of analyses or create certain types of graphs.  We first need to know what the age range is:"
   ]
  },
  {
   "cell_type": "code",
   "execution_count": null,
   "metadata": {
    "collapsed": true
   },
   "outputs": [],
   "source": []
  },
  {
   "cell_type": "code",
   "execution_count": null,
   "metadata": {
    "collapsed": true
   },
   "outputs": [],
   "source": []
  },
  {
   "cell_type": "code",
   "execution_count": null,
   "metadata": {
    "collapsed": true
   },
   "outputs": [],
   "source": []
  },
  {
   "cell_type": "markdown",
   "metadata": {},
   "source": [
    "Formatting for age bins/groups:\n",
    "\n",
    "We can create bins by setting the endpoints of the bins.  If we want the bins to cover 10-year groupings of 0-9, 10-19, 20-29, etc., we use the format [0,9,19,29, ...].\n",
    "\n",
    "With this format, Python takes the first two numbers (0 and 9) and creates the first bin, which  includes all people who are more than 0 years old (i.e., starting at 0.0000001 years old) and less than or equal to 9 years old.\n",
    "\n",
    "The second bin is created using 9 and 19 and includes all people who are more than 9 years old and less than or equal to 19 years old."
   ]
  },
  {
   "cell_type": "code",
   "execution_count": null,
   "metadata": {
    "collapsed": true
   },
   "outputs": [],
   "source": []
  },
  {
   "cell_type": "code",
   "execution_count": null,
   "metadata": {
    "collapsed": true
   },
   "outputs": [],
   "source": []
  },
  {
   "cell_type": "code",
   "execution_count": null,
   "metadata": {
    "collapsed": true
   },
   "outputs": [],
   "source": []
  },
  {
   "cell_type": "code",
   "execution_count": null,
   "metadata": {
    "collapsed": true
   },
   "outputs": [],
   "source": []
  },
  {
   "cell_type": "markdown",
   "metadata": {},
   "source": [
    "## Exercise\n",
    "\n",
    "1. Rename the values of the 'survived' variable to be more meaningful.\n",
    "\n",
    "2. This question has three parts: \n",
    "  \n",
    "  a. Create a new variable that divides the age variable into two bins: one for children (0-17 years old) and one for adults (18+ years old)   \n",
    "  \n",
    "  b. Check the values of your new variable.\n",
    "\n",
    "  c. Create a crosstab to show the number of child and adult survivors."
   ]
  },
  {
   "cell_type": "code",
   "execution_count": null,
   "metadata": {
    "collapsed": true,
    "scrolled": true
   },
   "outputs": [],
   "source": []
  },
  {
   "cell_type": "code",
   "execution_count": null,
   "metadata": {
    "collapsed": true
   },
   "outputs": [],
   "source": []
  },
  {
   "cell_type": "code",
   "execution_count": null,
   "metadata": {
    "collapsed": true
   },
   "outputs": [],
   "source": []
  },
  {
   "cell_type": "code",
   "execution_count": null,
   "metadata": {
    "collapsed": true
   },
   "outputs": [],
   "source": []
  },
  {
   "cell_type": "markdown",
   "metadata": {},
   "source": [
    "## <font color='blue'>Review: Getting help (from the Python workshop part 1)</font>\n",
    "\n",
    "- inline/in-program documentation - write the method, e.g., print, in parentheses after the word help\n",
    "    \n",
    "        help(print)\n",
    "    \n",
    "- official documentation - e.g., [Pandas](https://pandas.pydata.org/)\n",
    "- 'unofficial' documentation aka Googling and finding examples: python sort data   \n",
    "- cheat-sheets, e.g., [Wrangling Data with Pandas](https://pandas.pydata.org/Pandas_Cheat_Sheet.pdf)\n",
    "- online guides/tutorials, e.g., [Variables, Strings, and Numbers\n",
    "](http://introtopython.org/var_string_num.html)\n",
    "- online courses (no fee), e.g, Python courses through [Linked In Learning](https://lnkd.in/gf85Mmv)\n",
    "- online courses (fee), e.g., [Python for Data Science and AI](https://www.coursera.org/learn/python-for-applied-data-science-ai)"
   ]
  }
 ],
 "metadata": {
  "kernelspec": {
   "display_name": "Python 3",
   "language": "python",
   "name": "python3"
  },
  "language_info": {
   "codemirror_mode": {
    "name": "ipython",
    "version": 3
   },
   "file_extension": ".py",
   "mimetype": "text/x-python",
   "name": "python",
   "nbconvert_exporter": "python",
   "pygments_lexer": "ipython3",
   "version": "3.6.8"
  }
 },
 "nbformat": 4,
 "nbformat_minor": 2
}
