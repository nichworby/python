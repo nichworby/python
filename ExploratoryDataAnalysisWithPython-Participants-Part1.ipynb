{
 "cells": [
  {
   "cell_type": "markdown",
   "metadata": {},
   "source": [
    "# <font color='blue'> Exploratory Data Analysis with Python: Part 1 of 2</font>"
   ]
  },
  {
   "cell_type": "markdown",
   "metadata": {},
   "source": [
    "### Lise Doucette, Data and Statistics Librarian\n",
    "### Nich Worby, Government Information and Statistics Librarian\n",
    "### mdl@library.utoronto.ca"
   ]
  },
  {
   "cell_type": "markdown",
   "metadata": {
    "slideshow": {
     "slide_type": "slide"
    }
   },
   "source": [
    "# <font color='blue'> Outline </font>\n",
    "\n"
   ]
  },
  {
   "cell_type": "markdown",
   "metadata": {},
   "source": [
    "## <font color='blue'> 1 Overview</font>\n",
    "## <font color='blue'> 2 Importing libraries and reading  data </font>\n",
    "## <font color='blue'> 3 Getting help </font>\n",
    "## <font color='blue'> 4 Viewing your Data </font>\n",
    "## <font color='blue'> 5 Plotting/Graphing your Data</font>\n",
    "## <font color='blue'> 6 Selecting and filtering your data </font>\n",
    "\n",
    "\n",
    "---\n",
    "In Part II, we'll do a quick review of Part I, and cover crosstabs, grouping data, editing variables, and creating new variables \n",
    "\n",
    "---"
   ]
  },
  {
   "cell_type": "markdown",
   "metadata": {},
   "source": [
    "## <font color='blue'> 1 Overview</blue>"
   ]
  },
  {
   "cell_type": "markdown",
   "metadata": {},
   "source": [
    "- What is Python and why use it?\n",
    "- Versions of Python\n",
    "  - many older projects are written in 2.7, but most people new to Python learn version 3\n",
    "  - can use the following code to determine what version your system is using:\n",
    "\n",
    "~~~\n",
    "    from platform import python_version\n",
    "    print(python_version())\n",
    "~~~\n",
    "\n",
    "   \n",
    "- How Python works - programming language, objects and methods, libraries, indentation/white space\n",
    "- Indexing (starts at 0), rows (records) and columns (variables/attributes)\n",
    "- Some options for using Python - through [Anaconda Navigator](https://www.anaconda.com/distribution/)* you can install Jupyter Lab, Jupyter Notebooks, spyder, a console; [Google Colab](https://colab.research.google.com) is a cloud-based Jupyter notebooks environment.\n",
    "- Jupyter notebooks - cells of code and markdown; last line determines output of cell; running cells (changes from * to a number)\n",
    "\n",
    "\n",
    "\\* \"Anaconda Navigator is a desktop graphical user interface included in Anaconda that allows you to launch applications and easily manage conda packages, environments and channels without the need to use command line commands.\"  \"Anaconda® is a package manager, an environment manager, a Python/R data science distribution, and a collection of over 1,500+ open source packages.\"\n"
   ]
  },
  {
   "cell_type": "markdown",
   "metadata": {},
   "source": [
    "## <font color='blue'> 2 Importing libraries and reading data</font>\n"
   ]
  },
  {
   "cell_type": "markdown",
   "metadata": {},
   "source": [
    "### a) Importing packages/libraries\n",
    "\n",
    "Things to consider:\n",
    "- functionality that you need \n",
    "- you may need to install the libraries first using [Anaconda Navigator](https://docs.anaconda.com/anaconda/navigator/tutorials/manage-packages/), [conda](https://docs.anaconda.com/anaconda/user-guide/tasks/install-packages/), or the [command line](https://packaging.python.org/tutorials/installing-packages/)\n",
    "- use a nickname/short name for libraries that you will be referring to later (there are some common/standard ones)\n",
    "- syntax for importing packages/libraries:\n",
    "~~~\n",
    "import packagename as nickname\n",
    "~~~\n",
    "- for plotting in Jupyter notebooks, need to add one more line to tell it to display the plots directly in the notebook\n",
    "~~~\n",
    "%matplotlib inline\n",
    "~~~"
   ]
  },
  {
   "cell_type": "code",
   "execution_count": null,
   "metadata": {
    "collapsed": true
   },
   "outputs": [],
   "source": []
  },
  {
   "cell_type": "markdown",
   "metadata": {},
   "source": [
    "### b) Reading data\n",
    "\n",
    "Things to consider:\n",
    "- where the data is stored\n",
    "    - same folder as your Jupyter notebook or Python file?  don't need to specify the path\n",
    "    - different folder?  need to specify path\n",
    "- file type of data (csv, excel, text, other) and whether you might need a package to help you read the data\n",
    "- how the data is separated (comma, space, semicolon, other)\n",
    "- is there a header row with variable names?\n",
    "- pandas makes some guesses about your data format and type\n",
    "    - int64, float64, object, bool\n",
    "- in pandas, your data is stored in a data frame\n",
    "\n",
    "[Importing Data cheatsheat](https://s3.amazonaws.com/assets.datacamp.com/blog_assets/Cheat+Sheets/Importing_Data_Python_Cheat_Sheet.pdf)"
   ]
  },
  {
   "cell_type": "code",
   "execution_count": null,
   "metadata": {
    "collapsed": true
   },
   "outputs": [],
   "source": []
  },
  {
   "cell_type": "markdown",
   "metadata": {},
   "source": [
    "## <font color='blue'>3 Getting help</font>\n",
    "\n",
    "- inline/in-program documentation\n",
    "    \n",
    "        help()\n",
    "    \n",
    "- official documentation - e.g., [Pandas](https://pandas.pydata.org/)\n",
    "- 'unofficial' documentation aka Googling and finding examples: python sort data   \n",
    "- cheat-sheets, e.g., [Wrangling Data with Pandas](https://pandas.pydata.org/Pandas_Cheat_Sheet.pdf)\n",
    "- online guides/tutorials, e.g., [](http://introtopython.org/var_string_num.html)\n",
    "- online courses (no fee), e.g, Python courses through [Linked In Learning](https://lnkd.in/gf85Mmv)\n",
    "- online courses (fee), e.g., [Python for Data Science and AI](https://www.coursera.org/learn/python-for-applied-data-science-ai)"
   ]
  },
  {
   "cell_type": "code",
   "execution_count": null,
   "metadata": {
    "collapsed": true
   },
   "outputs": [],
   "source": []
  },
  {
   "cell_type": "markdown",
   "metadata": {},
   "source": [
    "## <font color='blue'>4 Viewing your Data</font>\n"
   ]
  },
  {
   "cell_type": "markdown",
   "metadata": {},
   "source": [
    "### a)  View the first few rows of data\n",
    "\n",
    "Things to note:\n",
    "- first row is Row 0\n",
    "- you can indicate how many rows you want to see by including a number in parentheses (default is 5)"
   ]
  },
  {
   "cell_type": "code",
   "execution_count": null,
   "metadata": {
    "collapsed": true
   },
   "outputs": [],
   "source": []
  },
  {
   "cell_type": "markdown",
   "metadata": {},
   "source": [
    "### b) Variable/column names and types\n",
    "\n",
    "Things to consider:\n",
    "- did pandas guess correctly about the type of data? What can you do if it didn't?  Indicate the type using __.astype__\n",
    "\n",
    "~~~\n",
    "titanic['ColumnName'] = titanic['ColumnName'].astype('NewDataType')\n",
    "~~~\n",
    "- common data types\n",
    "  - int64 - integers (whole numbers)\n",
    "  - float64 - decimal point numbers\n",
    "  - object - text/string\n",
    "  - bool - True/False value only"
   ]
  },
  {
   "cell_type": "code",
   "execution_count": null,
   "metadata": {
    "collapsed": true
   },
   "outputs": [],
   "source": []
  },
  {
   "cell_type": "code",
   "execution_count": null,
   "metadata": {
    "collapsed": true
   },
   "outputs": [],
   "source": []
  },
  {
   "cell_type": "markdown",
   "metadata": {},
   "source": [
    "### c) Missing/null data\n",
    "\n",
    "Things to consider:\n",
    "- why is the data \"missing\"? > e.g., not available, not known, participant refused to provide it\n",
    "- how will missing data affect your analyses? What can you do to address this?\n",
    "    - need to know when pandas includes/excludes null values"
   ]
  },
  {
   "cell_type": "code",
   "execution_count": null,
   "metadata": {
    "collapsed": true,
    "scrolled": true
   },
   "outputs": [],
   "source": []
  },
  {
   "cell_type": "markdown",
   "metadata": {},
   "source": [
    "### d) View a summary of your variables\n",
    "\n",
    "Things to consider:\n",
    "- what kinds of summary measures are meaningful for different variable types?\n",
    "- how is the mean value of age calculated?\n",
    "- documentation for formatting of a command: [describe](https://pandas.pydata.org/pandas-docs/stable/reference/api/pandas.DataFrame.describe.html)"
   ]
  },
  {
   "cell_type": "code",
   "execution_count": null,
   "metadata": {
    "collapsed": true,
    "scrolled": true
   },
   "outputs": [],
   "source": []
  },
  {
   "cell_type": "code",
   "execution_count": null,
   "metadata": {
    "collapsed": true
   },
   "outputs": [],
   "source": []
  },
  {
   "cell_type": "code",
   "execution_count": null,
   "metadata": {
    "collapsed": true
   },
   "outputs": [],
   "source": []
  },
  {
   "cell_type": "markdown",
   "metadata": {},
   "source": [
    "### e) View more meaningful summary data for categorical data"
   ]
  },
  {
   "cell_type": "code",
   "execution_count": null,
   "metadata": {
    "collapsed": true
   },
   "outputs": [],
   "source": []
  },
  {
   "cell_type": "markdown",
   "metadata": {},
   "source": [
    "## <font color='blue'>5 Plotting/Graphing your Data</font>"
   ]
  },
  {
   "cell_type": "markdown",
   "metadata": {},
   "source": [
    "Different types of plots are appropriate for different types of data.  We'll just explore a couple of types here.  For more information, check out the [Data Visualization Guide](https://mdl.library.utoronto.ca/dataviz/getting-started)."
   ]
  },
  {
   "cell_type": "markdown",
   "metadata": {},
   "source": [
    "### a) Create a bar plot for categorical data"
   ]
  },
  {
   "cell_type": "code",
   "execution_count": null,
   "metadata": {
    "collapsed": true,
    "scrolled": false
   },
   "outputs": [],
   "source": []
  },
  {
   "cell_type": "markdown",
   "metadata": {},
   "source": [
    "### b) Create a histogram for continuous, numerical data"
   ]
  },
  {
   "cell_type": "code",
   "execution_count": null,
   "metadata": {
    "collapsed": true,
    "scrolled": true
   },
   "outputs": [],
   "source": []
  },
  {
   "cell_type": "markdown",
   "metadata": {},
   "source": [
    "## Exercise\n",
    "\n",
    "1. What was the most common age of passengers on the Titanic? Hint: Use a function that gives you meaningful summary data\n",
    "2. Create a bar plot of passenger class\n",
    "3. Add a title to the plot created in exercise 2.  For help on how to do so, try Googling or using python help functions."
   ]
  },
  {
   "cell_type": "code",
   "execution_count": null,
   "metadata": {
    "collapsed": true
   },
   "outputs": [],
   "source": []
  },
  {
   "cell_type": "code",
   "execution_count": null,
   "metadata": {
    "collapsed": true
   },
   "outputs": [],
   "source": []
  },
  {
   "cell_type": "code",
   "execution_count": null,
   "metadata": {
    "collapsed": true
   },
   "outputs": [],
   "source": []
  },
  {
   "cell_type": "markdown",
   "metadata": {},
   "source": [
    "## <font color='blue'>6. Selecting and filtering your data</font>\n",
    "\n",
    "Things to note:\n",
    "- syntax differences when selecting [one] vs [[multiple]] columns\n",
    "\n",
    "We're going to access columns by calling them by their name. It's helpful to get a breakdown of all column names by using the .columns function."
   ]
  },
  {
   "cell_type": "code",
   "execution_count": null,
   "metadata": {
    "collapsed": true
   },
   "outputs": [],
   "source": []
  },
  {
   "cell_type": "markdown",
   "metadata": {},
   "source": [
    "### a) Select/view one column\n",
    "\n",
    "In order to select a single column, use the following syntax:\n",
    "\n",
    "    dataframe['column_name']"
   ]
  },
  {
   "cell_type": "code",
   "execution_count": null,
   "metadata": {
    "collapsed": true
   },
   "outputs": [],
   "source": []
  },
  {
   "cell_type": "markdown",
   "metadata": {},
   "source": [
    "### b) Select/view multiple columns\n",
    "\n",
    "The syntax for selecting multiple columns requires the use of two sets of brackets. Use the following syntax:\n",
    "        \n",
    "        dataframe[['col1','col2']]"
   ]
  },
  {
   "cell_type": "code",
   "execution_count": null,
   "metadata": {
    "collapsed": true,
    "scrolled": true
   },
   "outputs": [],
   "source": []
  },
  {
   "cell_type": "markdown",
   "metadata": {},
   "source": [
    "### c) Select/view specific rows and columns by location\n",
    "\n",
    "\n",
    "Note: this will return values at the __specific__ row and column labels that you specify (so rows 0:10 will show 11 rows, from Row 0 to Row 10)\n",
    "\n",
    "We are using the default row labels, which are the row numbers (0,1,2, etc.). If we were using names of individuals as row labels the same code might look like:\n",
    "        \n",
    "        titanic.loc['Allen':'Astor',['name','fare']]"
   ]
  },
  {
   "cell_type": "code",
   "execution_count": null,
   "metadata": {
    "collapsed": true
   },
   "outputs": [],
   "source": []
  },
  {
   "cell_type": "markdown",
   "metadata": {},
   "source": [
    "### d) Select/view rows and columns by range of indexes/indices\n",
    "\n",
    "The iloc method will return location based on index positions rather than labels. This will return values at the ranges of rows and columns that you specify.  In Python, this means from the __lower index to one less than the higher index__ (so rows 0:10 will show 10 rows, from Row 0 to Row 9, and columns 0:3 will show 3 columns, from Column 0 to Column 2)"
   ]
  },
  {
   "cell_type": "code",
   "execution_count": null,
   "metadata": {
    "collapsed": true
   },
   "outputs": [],
   "source": []
  },
  {
   "cell_type": "markdown",
   "metadata": {},
   "source": [
    "With __iloc__, you can also choose specific columns using double brackets."
   ]
  },
  {
   "cell_type": "code",
   "execution_count": null,
   "metadata": {
    "collapsed": true
   },
   "outputs": [],
   "source": []
  },
  {
   "cell_type": "markdown",
   "metadata": {},
   "source": [
    "## Exercise\n",
    "\n",
    "1. Show the final 10 rows of the data set, and the name and age columns."
   ]
  },
  {
   "cell_type": "code",
   "execution_count": null,
   "metadata": {
    "collapsed": true
   },
   "outputs": [],
   "source": []
  },
  {
   "cell_type": "markdown",
   "metadata": {},
   "source": [
    "### e) Select/view data that meets certain conditions (filters)\n",
    "\n",
    "You can create filters based on numeric conditions:"
   ]
  },
  {
   "cell_type": "code",
   "execution_count": null,
   "metadata": {
    "collapsed": true
   },
   "outputs": [],
   "source": []
  },
  {
   "cell_type": "code",
   "execution_count": null,
   "metadata": {
    "collapsed": true
   },
   "outputs": [],
   "source": []
  },
  {
   "cell_type": "markdown",
   "metadata": {},
   "source": [
    "\n",
    "Filters can also be created for strings which sometime requires the use of [regular expressions](https://regex101.com/):"
   ]
  },
  {
   "cell_type": "code",
   "execution_count": null,
   "metadata": {
    "collapsed": true
   },
   "outputs": [],
   "source": []
  },
  {
   "cell_type": "code",
   "execution_count": null,
   "metadata": {
    "collapsed": true
   },
   "outputs": [],
   "source": []
  },
  {
   "cell_type": "markdown",
   "metadata": {},
   "source": [
    "### f) Number of rows that meet your conditions\n"
   ]
  },
  {
   "cell_type": "code",
   "execution_count": null,
   "metadata": {
    "collapsed": true
   },
   "outputs": [],
   "source": []
  },
  {
   "cell_type": "markdown",
   "metadata": {},
   "source": [
    "### g) Combine multiple filters\n",
    "\n",
    "Note: Combine with __&__ (this means AND) or __|__ (this means OR)"
   ]
  },
  {
   "cell_type": "code",
   "execution_count": null,
   "metadata": {
    "collapsed": true
   },
   "outputs": [],
   "source": []
  },
  {
   "cell_type": "code",
   "execution_count": null,
   "metadata": {
    "collapsed": true
   },
   "outputs": [],
   "source": []
  },
  {
   "cell_type": "markdown",
   "metadata": {},
   "source": [
    "### h) Sort Data\n",
    "\n",
    "Numeric values can be sorted to be displayed either ascending (lowest to highest) or descending values (highest to lowest). Sorting data frames by the value of cells in a particular column uses the following syntax:\n",
    "\n",
    "        dataframename.sort_values(by=['column'],)\n",
    "        \n",
    "Note: The default setting is to sort from lowest to highest. To switch to ordering highest to lowest, add the ascending=False argument."
   ]
  },
  {
   "cell_type": "code",
   "execution_count": null,
   "metadata": {
    "collapsed": true
   },
   "outputs": [],
   "source": []
  },
  {
   "cell_type": "code",
   "execution_count": null,
   "metadata": {
    "collapsed": true
   },
   "outputs": [],
   "source": []
  },
  {
   "cell_type": "markdown",
   "metadata": {
    "scrolled": true
   },
   "source": [
    "## Exercise\n",
    "\n",
    "1. Create a filter that lists passengers who did not survive\n",
    "2. Combine the filters we created earlier in Section 6e) to create a list of passengers with the name Robert who survived\n",
    "3. Create a filter that lists passengers in class 1 who were more than 30 years old\n",
    "4. How many passengers fit the criteria from question 3?\n",
    "5. Create a filter to search for passengers with the following honorific titles in their names: Sir, Lady, Jonkheer."
   ]
  },
  {
   "cell_type": "code",
   "execution_count": null,
   "metadata": {
    "collapsed": true
   },
   "outputs": [],
   "source": []
  },
  {
   "cell_type": "code",
   "execution_count": null,
   "metadata": {
    "collapsed": true
   },
   "outputs": [],
   "source": []
  },
  {
   "cell_type": "code",
   "execution_count": null,
   "metadata": {
    "collapsed": true
   },
   "outputs": [],
   "source": []
  },
  {
   "cell_type": "code",
   "execution_count": null,
   "metadata": {
    "collapsed": true,
    "scrolled": true
   },
   "outputs": [],
   "source": []
  },
  {
   "cell_type": "code",
   "execution_count": null,
   "metadata": {
    "collapsed": true
   },
   "outputs": [],
   "source": []
  }
 ],
 "metadata": {
  "kernelspec": {
   "display_name": "Python 3",
   "language": "python",
   "name": "python3"
  },
  "language_info": {
   "codemirror_mode": {
    "name": "ipython",
    "version": 3
   },
   "file_extension": ".py",
   "mimetype": "text/x-python",
   "name": "python",
   "nbconvert_exporter": "python",
   "pygments_lexer": "ipython3",
   "version": "3.6.1"
  }
 },
 "nbformat": 4,
 "nbformat_minor": 2
}
